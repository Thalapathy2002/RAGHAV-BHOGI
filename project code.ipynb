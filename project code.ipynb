{
  "cells": [
    {
      "cell_type": "markdown",
      "id": "26c82f8f",
      "metadata": {},
      "source": [
        " Import Required Libraries"
      ]
    },
    {
      "cell_type": "code",
      "execution_count": 6,
      "id": "47b1e1f3-6fd6-4a24-86b8-83297c9f4ce1",
      "metadata": {
        "trusted": true
      },
      "outputs": [
        {
          "ename": "ModuleNotFoundError",
          "evalue": "No module named 'keras'",
          "output_type": "error",
          "traceback": [
            "\u001b[31m---------------------------------------------------------------------------\u001b[39m",
            "\u001b[31mModuleNotFoundError\u001b[39m                       Traceback (most recent call last)",
            "\u001b[36mCell\u001b[39m\u001b[36m \u001b[39m\u001b[32mIn[6]\u001b[39m\u001b[32m, line 11\u001b[39m\n\u001b[32m      8\u001b[39m \u001b[38;5;28;01mfrom\u001b[39;00m\u001b[38;5;250m \u001b[39m\u001b[34;01msklearn\u001b[39;00m\u001b[34;01m.\u001b[39;00m\u001b[34;01mmodel_selection\u001b[39;00m\u001b[38;5;250m \u001b[39m\u001b[38;5;28;01mimport\u001b[39;00m train_test_split\n\u001b[32m      9\u001b[39m \u001b[38;5;28;01mfrom\u001b[39;00m\u001b[38;5;250m \u001b[39m\u001b[34;01msklearn\u001b[39;00m\u001b[34;01m.\u001b[39;00m\u001b[34;01mmetrics\u001b[39;00m\u001b[38;5;250m \u001b[39m\u001b[38;5;28;01mimport\u001b[39;00m classification_report, confusion_matrix\n\u001b[32m---> \u001b[39m\u001b[32m11\u001b[39m \u001b[38;5;28;01mfrom\u001b[39;00m\u001b[38;5;250m \u001b[39m\u001b[34;01mkeras\u001b[39;00m\u001b[34;01m.\u001b[39;00m\u001b[34;01mmodels\u001b[39;00m\u001b[38;5;250m \u001b[39m\u001b[38;5;28;01mimport\u001b[39;00m Sequential\n\u001b[32m     12\u001b[39m \u001b[38;5;28;01mfrom\u001b[39;00m\u001b[38;5;250m \u001b[39m\u001b[34;01mkeras\u001b[39;00m\u001b[34;01m.\u001b[39;00m\u001b[34;01mlayers\u001b[39;00m\u001b[38;5;250m \u001b[39m\u001b[38;5;28;01mimport\u001b[39;00m Dense, Dropout, Activation, Flatten, Conv2D, MaxPooling2D\n\u001b[32m     13\u001b[39m \u001b[38;5;28;01mfrom\u001b[39;00m\u001b[38;5;250m \u001b[39m\u001b[34;01mkeras\u001b[39;00m\u001b[34;01m.\u001b[39;00m\u001b[34;01moptimizers\u001b[39;00m\u001b[38;5;250m \u001b[39m\u001b[38;5;28;01mimport\u001b[39;00m Adadelta\n",
            "\u001b[31mModuleNotFoundError\u001b[39m: No module named 'keras'"
          ]
        }
      ],
      "source": [
        "import os\n",
        "import numpy as np\n",
        "from numpy import *\n",
        "import matplotlib.pyplot as plt\n",
        "import matplotlib\n",
        "from PIL import Image\n",
        "from sklearn.utils import shuffle\n",
        "from sklearn.model_selection import train_test_split\n",
        "from sklearn.metrics import classification_report, confusion_matrix\n",
        "\n",
        "from keras.models import Sequential\n",
        "from keras.layers import Dense, Dropout, Activation, Flatten, Conv2D, MaxPooling2D\n",
        "from keras.optimizers import Adadelta\n",
        "from keras.utils import to_categorical\n"
      ]
    },
    {
      "cell_type": "code",
      "execution_count": null,
      "id": "a5bb759f",
      "metadata": {},
      "outputs": [
        {
          "ename": "ModuleNotFoundError",
          "evalue": "No module named 'keras'",
          "output_type": "error",
          "traceback": [
            "\u001b[31m---------------------------------------------------------------------------\u001b[39m",
            "\u001b[31mModuleNotFoundError\u001b[39m                       Traceback (most recent call last)",
            "\u001b[36mCell\u001b[39m\u001b[36m \u001b[39m\u001b[32mIn[2]\u001b[39m\u001b[32m, line 1\u001b[39m\n\u001b[32m----> \u001b[39m\u001b[32m1\u001b[39m \u001b[38;5;28;01mfrom\u001b[39;00m\u001b[38;5;250m \u001b[39m\u001b[34;01mkeras\u001b[39;00m\u001b[34;01m.\u001b[39;00m\u001b[34;01mmodels\u001b[39;00m\u001b[38;5;250m \u001b[39m\u001b[38;5;28;01mimport\u001b[39;00m Sequential\n\u001b[32m      2\u001b[39m \u001b[38;5;28;01mfrom\u001b[39;00m\u001b[38;5;250m \u001b[39m\u001b[34;01mkeras\u001b[39;00m\u001b[34;01m.\u001b[39;00m\u001b[34;01mlayers\u001b[39;00m\u001b[38;5;250m \u001b[39m\u001b[38;5;28;01mimport\u001b[39;00m Dense, Dropout, Activation, Flatten, Conv2D, MaxPooling2D\n\u001b[32m      3\u001b[39m \u001b[38;5;28;01mfrom\u001b[39;00m\u001b[38;5;250m \u001b[39m\u001b[34;01mkeras\u001b[39;00m\u001b[34;01m.\u001b[39;00m\u001b[34;01moptimizers\u001b[39;00m\u001b[38;5;250m \u001b[39m\u001b[38;5;28;01mimport\u001b[39;00m Adadelta\n",
            "\u001b[31mModuleNotFoundError\u001b[39m: No module named 'keras'"
          ]
        }
      ],
      "source": [
        "from keras.models import Sequential\n",
        "from keras.layers import Dense, Dropout, Activation, Flatten, Conv2D, MaxPooling2D\n",
        "from keras.optimizers import Adadelta\n",
        "from keras.utils import to_categorical"
      ]
    },
    {
      "cell_type": "markdown",
      "id": "127683a3",
      "metadata": {},
      "source": [
        "Matplotlib is building the font cache; this may take a moment."
      ]
    },
    {
      "cell_type": "markdown",
      "id": "d36d73db-77e1-43ae-aa4a-41fcf3525925",
      "metadata": {},
      "source": [
        "Image Resizing and Preprocessing"
      ]
    },
    {
      "cell_type": "code",
      "execution_count": 3,
      "id": "e05ffbf5-e62d-4001-9c20-2cd12eda8bf0",
      "metadata": {
        "trusted": true
      },
      "outputs": [
        {
          "name": "stdout",
          "output_type": "stream",
          "text": [
            "Number of samples: 4233\n"
          ]
        }
      ],
      "source": [
        "img_rows, img_cols = 300, 300\n",
        "img_channels = 1\n",
        "\n",
        "path1 = \"images\"\n",
        "path2 = \"images_resized\"\n",
        "os.makedirs(path2, exist_ok=True)\n",
        "\n",
        "listing = os.listdir(path1)\n",
        "num_samples = len(listing)\n",
        "print(\"Number of samples:\", num_samples)\n",
        "\n",
        "for file in listing:\n",
        "    im = Image.open(os.path.join(path1, file))\n",
        "    img = im.resize((img_rows, img_cols))\n",
        "    gray = img.convert('L')\n",
        "    gray.save(os.path.join(path2, file), \"JPEG\")\n"
      ]
    },
    {
      "cell_type": "markdown",
      "id": "f6e218fa-6451-4cee-9874-ec9b1683ceb4",
      "metadata": {},
      "source": [
        "Create Image Matrix"
      ]
    },
    {
      "cell_type": "code",
      "execution_count": 4,
      "id": "1caa4139-adae-4fd3-8bcc-7824844bb2cb",
      "metadata": {
        "trusted": true
      },
      "outputs": [],
      "source": [
        "imlist = os.listdir(path2)\n",
        "im1 = array(Image.open(os.path.join(path2, imlist[0])))\n",
        "immatrix = array([array(Image.open(os.path.join(path2, im2))).flatten() for im2 in imlist], 'f')\n"
      ]
    },
    {
      "cell_type": "markdown",
      "id": "f731cd61-7816-47c1-84f0-3a16fa486651",
      "metadata": {},
      "source": [
        "Labeling and Shuffling Data"
      ]
    },
    {
      "cell_type": "code",
      "execution_count": 5,
      "id": "bbc42837-5caf-4bb1-ae30-b54fc8a86fe5",
      "metadata": {
        "trusted": true
      },
      "outputs": [],
      "source": [
        "label = np.ones((num_samples,), dtype=int)\n",
        "label[0:1260] = 0\n",
        "label[1260:2716] = 1\n",
        "label[2716:] = 2\n",
        "\n",
        "data, Label = shuffle(immatrix, label, random_state=2)\n",
        "train_data = [data, Label]\n"
      ]
    },
    {
      "cell_type": "markdown",
      "id": "7da24942-a476-4d40-82fc-c3838758379a",
      "metadata": {},
      "source": [
        "Display a Sample Image"
      ]
    },
    {
      "cell_type": "code",
      "execution_count": null,
      "id": "42848067-8eb4-418e-a758-b9f6c3309355",
      "metadata": {
        "trusted": true
      },
      "outputs": [],
      "source": [
        "img = immatrix[167].reshape(img_rows, img_cols)\n",
        "plt.imshow(img, cmap='gray')\n",
        "plt.show()\n",
        "\n",
        "print(\"Data shape:\", train_data[0].shape)\n",
        "print(\"Label shape:\", train_data[1].shape)\n"
      ]
    },
    {
      "cell_type": "markdown",
      "id": "146f2b3e-9388-4577-a4af-9699c14926ef",
      "metadata": {},
      "source": [
        "Train-Test Split and Normalization"
      ]
    },
    {
      "cell_type": "code",
      "execution_count": null,
      "id": "29f161eb-2f38-48c5-8681-d794e3ddbdac",
      "metadata": {
        "trusted": true
      },
      "outputs": [],
      "source": [
        "X, y = train_data\n",
        "X_train, X_test, y_train, y_test = train_test_split(X, y, test_size=0.2, random_state=4)\n",
        "\n",
        "X_train = X_train.reshape(X_train.shape[0], 1, img_rows, img_cols).astype('float32') / 255\n",
        "X_test = X_test.reshape(X_test.shape[0], 1, img_rows, img_cols).astype('float32') / 255\n",
        "\n",
        "Y_train = to_categorical(y_train, 3)\n",
        "Y_test = to_categorical(y_test, 3)\n",
        "\n",
        "print('X_train shape:', X_train.shape)\n",
        "print(X_train.shape[0], 'train samples')\n",
        "print(X_test.shape[0], 'test samples')\n"
      ]
    },
    {
      "cell_type": "markdown",
      "id": "83cc1969-c6f8-45e5-8114-eb40889b2c10",
      "metadata": {},
      "source": [
        "Build the CNN Model"
      ]
    },
    {
      "cell_type": "code",
      "execution_count": null,
      "id": "5f253572-1805-43a2-acc0-0a53f2dbeb54",
      "metadata": {
        "trusted": true
      },
      "outputs": [],
      "source": [
        "model = Sequential()\n",
        "\n",
        "model.add(Conv2D(32, (3, 3), padding='valid', input_shape=(1, img_rows, img_cols)))\n",
        "model.add(Activation('relu'))\n",
        "model.add(Conv2D(32, (3, 3)))\n",
        "model.add(Activation('relu'))\n",
        "model.add(Conv2D(32, (3, 3)))\n",
        "model.add(Activation('relu'))\n",
        "\n",
        "model.add(MaxPooling2D(pool_size=(2, 2)))\n",
        "model.add(Dropout(0.5))\n",
        "\n",
        "model.add(Flatten())\n",
        "model.add(Dense(512))\n",
        "model.add(Activation('relu'))\n",
        "model.add(Dropout(0.5))\n",
        "model.add(Dense(3))\n",
        "model.add(Activation('softmax'))\n",
        "\n",
        "model.compile(loss='categorical_crossentropy', optimizer=Adadelta(), metrics=['accuracy'])\n"
      ]
    },
    {
      "cell_type": "markdown",
      "id": "fcb07173-359a-4892-b8a1-52ff3ac2b9df",
      "metadata": {},
      "source": [
        "Model Training"
      ]
    },
    {
      "cell_type": "code",
      "execution_count": null,
      "id": "14c07073-f6fc-4e53-be3b-73329472f0ed",
      "metadata": {
        "trusted": true
      },
      "outputs": [],
      "source": [
        "batch_size = 32\n",
        "nb_epoch = 20\n",
        "\n",
        "history = model.fit(X_train, Y_train,\n",
        "                    batch_size=batch_size,\n",
        "                    epochs=nb_epoch,\n",
        "                    verbose=1,\n",
        "                    validation_split=0.2)\n"
      ]
    },
    {
      "cell_type": "markdown",
      "id": "c8667081-7e59-4d35-b58f-055ace7b76cb",
      "metadata": {},
      "source": [
        "Visualizing Accuracy and Loss"
      ]
    },
    {
      "cell_type": "code",
      "execution_count": null,
      "id": "12988ac1-cbbf-4e66-8e86-d98a322a5b4c",
      "metadata": {
        "trusted": true
      },
      "outputs": [],
      "source": [
        "plt.figure(figsize=(7, 5))\n",
        "plt.plot(history.history['loss'])\n",
        "plt.plot(history.history['val_loss'])\n",
        "plt.title('Train vs Validation Loss')\n",
        "plt.xlabel('Epoch')\n",
        "plt.ylabel('Loss')\n",
        "plt.legend(['Train', 'Validation'])\n",
        "plt.grid(True)\n",
        "plt.style.use('classic')\n",
        "plt.show()\n",
        "\n",
        "plt.figure(figsize=(7, 5))\n",
        "plt.plot(history.history['accuracy'])\n",
        "plt.plot(history.history['val_accuracy'])\n",
        "plt.title('Train vs Validation Accuracy')\n",
        "plt.xlabel('Epoch')\n",
        "plt.ylabel('Accuracy')\n",
        "plt.legend(['Train', 'Validation'], loc=4)\n",
        "plt.grid(True)\n",
        "plt.style.use('classic')\n",
        "plt.show()\n"
      ]
    },
    {
      "cell_type": "markdown",
      "id": "0dcd9a7a-0d3c-4d5e-9404-d76cac9e5a17",
      "metadata": {},
      "source": [
        " Evaluate Model"
      ]
    },
    {
      "cell_type": "code",
      "execution_count": null,
      "id": "45cc19e8-a3c2-456c-8c3e-2722c3d94dc6",
      "metadata": {
        "trusted": true
      },
      "outputs": [],
      "source": [
        "score = model.evaluate(X_test, Y_test, verbose=0)\n",
        "print('Test Score:', score[0])\n",
        "print('Test Accuracy:', score[1])\n",
        "\n",
        "print(\"Predicted Classes:\\n\", model.predict(X_test[1:5]).argmax(axis=1))\n",
        "print(\"True Labels:\\n\", Y_test[1:5])\n"
      ]
    },
    {
      "cell_type": "markdown",
      "id": "f8464c10-0d17-4bc0-84af-497527739cb1",
      "metadata": {},
      "source": [
        "Classification Report & Confusion Matrix"
      ]
    },
    {
      "cell_type": "code",
      "execution_count": null,
      "id": "81c685e3-37b2-413f-a6fb-5d51452afbeb",
      "metadata": {
        "trusted": true
      },
      "outputs": [],
      "source": [
        "Y_pred = model.predict(X_test)\n",
        "y_pred = np.argmax(Y_pred, axis=1)\n",
        "print(\"Classification Report:\")\n",
        "print(classification_report(np.argmax(Y_test, axis=1), y_pred, target_names=['Negative', 'Neutral', 'Positive']))\n",
        "print(\"Confusion Matrix:\")\n",
        "print(confusion_matrix(np.argmax(Y_test, axis=1), y_pred))\n"
      ]
    }
  ],
  "metadata": {
    "kernelspec": {
      "display_name": "Python 3",
      "language": "python",
      "name": "python3"
    },
    "language_info": {
      "codemirror_mode": {
        "name": "ipython",
        "version": 3
      },
      "file_extension": ".py",
      "mimetype": "text/x-python",
      "name": "python",
      "nbconvert_exporter": "python",
      "pygments_lexer": "ipython3",
      "version": "3.13.3"
    }
  },
  "nbformat": 4,
  "nbformat_minor": 5
}
